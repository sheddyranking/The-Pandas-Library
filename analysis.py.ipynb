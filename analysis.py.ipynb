{
 "cells": [
  {
   "cell_type": "code",
   "execution_count": 17,
   "id": "a6362f06",
   "metadata": {},
   "outputs": [
    {
     "name": "stdout",
     "output_type": "stream",
     "text": [
      "   #                   Name Type 1  Type 2  HP  Attack  Defense  Sp. Atk  \\\n",
      "0  1              Bulbasaur  Grass  Poison  45      49       49       65   \n",
      "1  2                Ivysaur  Grass  Poison  60      62       63       80   \n",
      "2  3               Venusaur  Grass  Poison  80      82       83      100   \n",
      "3  3  VenusaurMega Venusaur  Grass  Poison  80     100      123      122   \n",
      "\n",
      "   Sp. Def  Speed  Generation  Legendary  \n",
      "0       65     45           1      False  \n",
      "1       80     60           1      False  \n",
      "2      100     80           1      False  \n",
      "3      120     80           1      False  \n"
     ]
    }
   ],
   "source": [
    "import pandas as pd\n",
    "\n",
    "#loading files with pandas\n",
    "\n",
    "df = pd.read_csv('pokemon_data.csv')\n",
    "\n",
    "#df_xlsx = pd.read_excel('pokemon_data.xlsx')\n",
    "\n",
    "#df_txt = pd.read_csv('pokemon_data.txt', delimiter ='\\t')\n",
    "\n",
    "#print(df.head(4))\n",
    "#print(df_xlsx.head(3))\n",
    "#print(df_txt.head(4))"
   ]
  },
  {
   "cell_type": "code",
   "execution_count": 40,
   "id": "62696ba2",
   "metadata": {},
   "outputs": [
    {
     "data": {
      "text/plain": [
       "Index(['#', 'Name', 'Type 1', 'Type 2', 'HP', 'Attack', 'Defense', 'Sp. Atk',\n",
       "       'Sp. Def', 'Speed', 'Generation', 'Legendary'],\n",
       "      dtype='object')"
      ]
     },
     "execution_count": 40,
     "metadata": {},
     "output_type": "execute_result"
    }
   ],
   "source": [
    "#Reading file in the pandas df (data framwork)\n",
    "\n",
    "#Read head\n",
    "df.columns\n",
    "\n",
    "#read each columns\n",
    "#print([['Name', 'Type 1', 'Hp']])\n",
    "\n",
    "# read each columns\n",
    "#print(df.iloc[0:4])\n",
    "\n",
    "#iterrating through each row\n",
    "#for index, row in df.iterrows():\n",
    "    #print(index, row['Name'])\n",
    "\n",
    "#read a specific specific location (R,C)\n",
    "#print(df.iloc[2,1])\n"
   ]
  },
  {
   "cell_type": "code",
   "execution_count": null,
   "id": "ee14b772",
   "metadata": {},
   "outputs": [],
   "source": []
  }
 ],
 "metadata": {
  "kernelspec": {
   "display_name": "Python 3 (ipykernel)",
   "language": "python",
   "name": "python3"
  },
  "language_info": {
   "codemirror_mode": {
    "name": "ipython",
    "version": 3
   },
   "file_extension": ".py",
   "mimetype": "text/x-python",
   "name": "python",
   "nbconvert_exporter": "python",
   "pygments_lexer": "ipython3",
   "version": "3.9.7"
  }
 },
 "nbformat": 4,
 "nbformat_minor": 5
}
